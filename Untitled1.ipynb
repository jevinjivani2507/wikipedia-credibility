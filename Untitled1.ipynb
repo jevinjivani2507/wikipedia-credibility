{
  "cells": [
    {
      "cell_type": "code",
      "execution_count": 98,
      "metadata": {
        "id": "17UlYvedePr4"
      },
      "outputs": [],
      "source": [
        "import matplotlib.pyplot as plt\n",
        "import numpy as np\n",
        "import pandas as pd"
      ]
    },
    {
      "cell_type": "code",
      "execution_count": 144,
      "metadata": {},
      "outputs": [
        {
          "name": "stderr",
          "output_type": "stream",
          "text": [
            "C:\\Users\\HP\\AppData\\Local\\Temp\\ipykernel_21796\\558914750.py:3: DtypeWarning: Columns (0) have mixed types. Specify dtype option on import or set low_memory=False.\n",
            "  df = pd.read_csv('revision_data.csv')\n"
          ]
        },
        {
          "data": {
            "text/html": [
              "<div>\n",
              "<style scoped>\n",
              "    .dataframe tbody tr th:only-of-type {\n",
              "        vertical-align: middle;\n",
              "    }\n",
              "\n",
              "    .dataframe tbody tr th {\n",
              "        vertical-align: top;\n",
              "    }\n",
              "\n",
              "    .dataframe thead th {\n",
              "        text-align: right;\n",
              "    }\n",
              "</style>\n",
              "<table border=\"1\" class=\"dataframe\">\n",
              "  <thead>\n",
              "    <tr style=\"text-align: right;\">\n",
              "      <th></th>\n",
              "      <th>Article_id</th>\n",
              "      <th>Main</th>\n",
              "      <th>External-link</th>\n",
              "      <th>comment</th>\n",
              "      <th>Textdata</th>\n",
              "    </tr>\n",
              "  </thead>\n",
              "  <tbody>\n",
              "    <tr>\n",
              "      <th>0</th>\n",
              "      <td>6</td>\n",
              "      <td>0.0</td>\n",
              "      <td>0.0</td>\n",
              "      <td>0.0</td>\n",
              "      <td>1516.0</td>\n",
              "    </tr>\n",
              "    <tr>\n",
              "      <th>1</th>\n",
              "      <td>6</td>\n",
              "      <td>0.0</td>\n",
              "      <td>0.0</td>\n",
              "      <td>1.0</td>\n",
              "      <td>5.0</td>\n",
              "    </tr>\n",
              "    <tr>\n",
              "      <th>2</th>\n",
              "      <td>8</td>\n",
              "      <td>0.0</td>\n",
              "      <td>0.0</td>\n",
              "      <td>0.0</td>\n",
              "      <td>9.0</td>\n",
              "    </tr>\n",
              "    <tr>\n",
              "      <th>3</th>\n",
              "      <td>8</td>\n",
              "      <td>0.0</td>\n",
              "      <td>0.0</td>\n",
              "      <td>1.0</td>\n",
              "      <td>6.0</td>\n",
              "    </tr>\n",
              "    <tr>\n",
              "      <th>4</th>\n",
              "      <td>10</td>\n",
              "      <td>0.0</td>\n",
              "      <td>0.0</td>\n",
              "      <td>0.0</td>\n",
              "      <td>8.0</td>\n",
              "    </tr>\n",
              "  </tbody>\n",
              "</table>\n",
              "</div>"
            ],
            "text/plain": [
              "  Article_id  Main  External-link  comment  Textdata\n",
              "0          6   0.0            0.0      0.0    1516.0\n",
              "1          6   0.0            0.0      1.0       5.0\n",
              "2          8   0.0            0.0      0.0       9.0\n",
              "3          8   0.0            0.0      1.0       6.0\n",
              "4         10   0.0            0.0      0.0       8.0"
            ]
          },
          "execution_count": 144,
          "metadata": {},
          "output_type": "execute_result"
        }
      ],
      "source": [
        "# remove header\n",
        "\n",
        "df = pd.read_csv('revision_data.csv')\n",
        "# remove first row\n",
        "# df = df.drop(df.index[0])\n",
        "# add header name\n",
        "# df.columns = ['Article_id','Main','External-link','comment','Textdata']\n",
        "df.head()"
      ]
    },
    {
      "cell_type": "code",
      "execution_count": 175,
      "metadata": {
        "id": "GfAsR8vSemaw"
      },
      "outputs": [
        {
          "data": {
            "text/html": [
              "<div>\n",
              "<style scoped>\n",
              "    .dataframe tbody tr th:only-of-type {\n",
              "        vertical-align: middle;\n",
              "    }\n",
              "\n",
              "    .dataframe tbody tr th {\n",
              "        vertical-align: top;\n",
              "    }\n",
              "\n",
              "    .dataframe thead th {\n",
              "        text-align: right;\n",
              "    }\n",
              "</style>\n",
              "<table border=\"1\" class=\"dataframe\">\n",
              "  <thead>\n",
              "    <tr style=\"text-align: right;\">\n",
              "      <th></th>\n",
              "      <th>External-link</th>\n",
              "    </tr>\n",
              "  </thead>\n",
              "  <tbody>\n",
              "    <tr>\n",
              "      <th>12</th>\n",
              "      <td>154.0</td>\n",
              "    </tr>\n",
              "    <tr>\n",
              "      <th>25</th>\n",
              "      <td>424.0</td>\n",
              "    </tr>\n",
              "    <tr>\n",
              "      <th>30</th>\n",
              "      <td>3.0</td>\n",
              "    </tr>\n",
              "    <tr>\n",
              "      <th>39</th>\n",
              "      <td>20.0</td>\n",
              "    </tr>\n",
              "    <tr>\n",
              "      <th>43</th>\n",
              "      <td>51.0</td>\n",
              "    </tr>\n",
              "    <tr>\n",
              "      <th>...</th>\n",
              "      <td>...</td>\n",
              "    </tr>\n",
              "    <tr>\n",
              "      <th>3352</th>\n",
              "      <td>34.0</td>\n",
              "    </tr>\n",
              "    <tr>\n",
              "      <th>3354</th>\n",
              "      <td>99.0</td>\n",
              "    </tr>\n",
              "    <tr>\n",
              "      <th>3355</th>\n",
              "      <td>4.0</td>\n",
              "    </tr>\n",
              "    <tr>\n",
              "      <th>3356</th>\n",
              "      <td>63.0</td>\n",
              "    </tr>\n",
              "    <tr>\n",
              "      <th>3356 665 0 0 0</th>\n",
              "      <td>NaN</td>\n",
              "    </tr>\n",
              "  </tbody>\n",
              "</table>\n",
              "<p>1527 rows × 1 columns</p>\n",
              "</div>"
            ],
            "text/plain": [
              "                 External-link\n",
              "12                       154.0\n",
              "25                       424.0\n",
              "30                         3.0\n",
              "39                        20.0\n",
              "43                        51.0\n",
              "...                        ...\n",
              "3352                      34.0\n",
              "3354                      99.0\n",
              "3355                       4.0\n",
              "3356                      63.0\n",
              "3356 665 0 0 0             NaN\n",
              "\n",
              "[1527 rows x 1 columns]"
            ]
          },
          "execution_count": 175,
          "metadata": {},
          "output_type": "execute_result"
        }
      ],
      "source": [
        "# get unique values of the column Article_id and max of it in External-link count \n",
        "\n",
        "\n",
        "\n",
        "\n",
        "Revisions = df.groupby('Article_id')['External-link'].max().to_dict()\n",
        "\n",
        "Revision = pd.DataFrame.from_dict(Revisions, orient='index', columns=['External-link'])\n",
        "# print(Revision)\n",
        "# Revision.transpose()\n",
        "# print(Revision)\n",
        "# # max of the External-link count\n",
        "\n",
        "# Revision['External-link']\n",
        "\n",
        "# # Remove rows which has 0 external link count\n",
        "\n",
        "Revision = Revision[Revision['External-link'] != 0]\n",
        "\n",
        "# Remove Article id numbered 1650\n",
        "\n",
        "Revision = Revision[Revision.index != 1650]\n",
        "\n",
        "# Revision.shape\n",
        "\n",
        "\n",
        "# which article id has max External-link count\n",
        "\n",
        "# Revision = Revision[Revision['External-link'] == Revision['External-link'].max()]\n",
        "\n",
        "\n",
        "# Invert the dictionary\n",
        "# Revision = Revision.replace({'External-link': {Revision['External-link'].max(): 'Max'}})\n",
        "\n",
        "# Revision = Revision.iloc[:,[1,0]]\n",
        "\n",
        "# Remove first two rows\n",
        "\n",
        "# Revi\n",
        "# Revision = Revision.iloc[2:,:]\n",
        "\n",
        "# Revision = Revision.iloc[1:,:]\n",
        "\n",
        "Revision\n",
        "\n",
        "#dimension of the dataframe\n",
        "# Revision.shape\n",
        "# Revision\n"
      ]
    },
    {
      "cell_type": "code",
      "execution_count": 185,
      "metadata": {
        "colab": {
          "base_uri": "https://localhost:8080/",
          "height": 350
        },
        "id": "g_qJv8fLexew",
        "outputId": "5d14e160-32ac-4318-aa7a-5839a4db6ad1"
      },
      "outputs": [
        {
          "data": {
            "image/png": "[encoded data removed]",
            "text/plain": [
              "<Figure size 640x480 with 1 Axes>"
            ]
          },
          "metadata": {},
          "output_type": "display_data"
        },
        {
          "data": {
            "image/png": "[encoded data removed]",
            "text/plain": [
              "<Figure size 640x480 with 1 Axes>"
            ]
          },
          "metadata": {},
          "output_type": "display_data"
        },
        {
          "name": "stdout",
          "output_type": "stream",
          "text": [
            "1837.0\n"
          ]
        },
        {
          "data": {
            "image/png": "[encoded data removed]",
            "text/plain": [
              "<Figure size 640x480 with 1 Axes>"
            ]
          },
          "metadata": {},
          "output_type": "display_data"
        },
        {
          "name": "stdout",
          "output_type": "stream",
          "text": [
            "                 External-link\n",
            "12                       154.0\n",
            "25                       424.0\n",
            "30                         3.0\n",
            "39                        20.0\n",
            "43                        51.0\n",
            "...                        ...\n",
            "3352                      34.0\n",
            "3354                      99.0\n",
            "3355                       4.0\n",
            "3356                      63.0\n",
            "3356 665 0 0 0             NaN\n",
            "\n",
            "[1527 rows x 1 columns]\n"
          ]
        },
        {
          "data": {
            "image/png": "[encoded data removed]",
            "text/plain": [
              "<Figure size 640x480 with 1 Axes>"
            ]
          },
          "metadata": {},
          "output_type": "display_data"
        }
      ],
      "source": [
        "\n",
        "# Revision = Revision.iloc[:,[1,0]]\n",
        "\n",
        "# # Remove rows which as external link count is 0\n",
        "\n",
        "# Revision = Revision[Revision['Article_id'] != 0]\n",
        "\n",
        "# Revision.columns = ['External-link','Article_id']\n",
        "# Revision\n",
        "\n",
        "# Plot the histogram of the External-link count\n",
        "\n",
        "# Revision['External-link'].hist(bins=50)\n",
        "# plt.xlabel(\"External-link count\")\n",
        "# plt.ylabel(\"Frequency\")\n",
        "# plt.title(\"Histogram of External-link count\")\n",
        "# plt.show()\n",
        "x=np.histogram(Revision['External-link'], bins=(0, len(Revision)))\n",
        "plt.hist(x)\n",
        "plt.show()\n",
        "plt.plot(range(len(Revision)), Revision['External-link'], color='red')\n",
        "plt.show()\n",
        "plt.hist(Revision['External-link'], range=(0, len(Revision)))\n",
        "print(Revision['External-link'].max())\n",
        "plt.show()\n",
        "plt.hist(Revision)\n",
        "print(Revision)\n",
        "# for indx, i in enumerate():\n",
        "#     plt.figure(figsize=(10, 5))\n",
        "#     plt.bar(i.keys(), i.values(), color=['#FAEBDD', '#E53940', '#5B1E51'])\n",
        "#     plt.xlabel(\"Model\")\n",
        "#     plt.ylabel(\"Score\")\n",
        "#     plt.title(titles[indx])\n",
        "#     plt.show()"
      ]
    },
    {
      "cell_type": "code",
      "execution_count": null,
      "metadata": {},
      "outputs": [],
      "source": []
    }
  ],
  "metadata": {
    "colab": {
      "provenance": []
    },
    "kernelspec": {
      "display_name": "Python 3",
      "name": "python3"
    },
    "language_info": {
      "codemirror_mode": {
        "name": "ipython",
        "version": 3
      },
      "file_extension": ".py",
      "mimetype": "text/x-python",
      "name": "python",
      "nbconvert_exporter": "python",
      "pygments_lexer": "ipython3",
      "version": "3.9.0"
    }
  },
  "nbformat": 4,
  "nbformat_minor": 0
}
