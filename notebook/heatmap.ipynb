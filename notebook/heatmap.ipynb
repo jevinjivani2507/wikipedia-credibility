{
 "cells": [
  {
   "cell_type": "code",
   "execution_count": 6,
   "metadata": {},
   "outputs": [],
   "source": [
    "import seaborn as sns\n",
    "import numpy as np"
   ]
  },
  {
   "cell_type": "code",
   "execution_count": 7,
   "metadata": {},
   "outputs": [
    {
     "name": "stderr",
     "output_type": "stream",
     "text": [
      "C:\\Users\\HP\\AppData\\Local\\Temp\\ipykernel_43552\\1394656437.py:6: VisibleDeprecationWarning: Creating an ndarray from ragged nested sequences (which is a list-or-tuple of lists-or-tuples-or ndarrays with different lengths or shapes) is deprecated. If you meant to do this, you must specify 'dtype=object' when creating the ndarray.\n",
      "  data = np.array(data)\n"
     ]
    },
    {
     "data": {
      "text/plain": [
       "array([list(['[[399,', '684,', '310,', '451,', '415,', '546,', '391,', '589,', '347,', '337,', '270,', '293,', '301,', '216,', '225,', '159,', '144,', '355,', '320,', '282,', '404,', '136,', '574,', '2],']),\n",
       "       list(['[463,', '693,', '327,', '513,', '496,', '512,', '369,', '605,', '352,', '380,', '277,', '329,']),\n",
       "       list(['329,', '256,', '228,', '215,', '185,', '355,', '381,', '266,', '396,', '142,', '528,', '3],']),\n",
       "       list(['[302,', '519,', '212,', '367,', '316,', '444,', '308,', '412,', '271,', '240,', '229,', '225,']),\n",
       "       list(['221,', '172,', '147,', '130,', '114,', '250,', '269,', '194,', '290,', '89,', '444,', '1],']),\n",
       "       list(['[338,', '564,', '245,', '393,', '377,', '507,', '304,', '512,', '283,', '301,', '249,', '247,']),\n",
       "       list(['243,', '175,', '153,', '131,', '134,', '270,', '292,', '220,', '347,', '129,', '368,', '1],']),\n",
       "       list(['[399,', '579,', '262,', '386,', '409,', '490,', '344,', '469,', '285,', '298,', '259,', '251,']),\n",
       "       list(['279,', '171,', '185,', '135,', '163,', '290,', '315,', '222,', '313,', '123,', '392,', '1],']),\n",
       "       list(['[315,', '422,', '205,', '301,', '301,', '360,', '294,', '368,', '244,', '293,', '192,', '219,']),\n",
       "       list(['208,', '165,', '155,', '111,', '117,', '332,', '207,', '191,', '308,', '106,', '335,', '1],']),\n",
       "       list(['[298,', '487,', '202,', '332,', '351,', '415,', '269,', '415,', '254,', '241,', '226,', '223,']),\n",
       "       list(['197,', '149,', '194,', '150,', '119,', '778,', '214,', '200,', '316,', '104,', '187,', '1],']),\n",
       "       list(['[266,', '472,', '189,', '279,', '302,', '329,', '221,', '342,', '264,', '221,', '146,', '195,']),\n",
       "       list(['169,', '150,', '174,', '109,', '125,', '250,', '240,', '153,', '249,', '103,', '351,', '1],']),\n",
       "       list(['[294,', '377,', '200,', '310,', '294,', '332,', '258,', '354,', '208,', '215,', '175,', '175,']),\n",
       "       list(['208,', '145,', '148,', '133,', '111,', '420,', '231,', '180,', '264,', '74,', '623,', '4],']),\n",
       "       list(['[311,', '424,', '194,', '297,', '298,', '351,', '208,', '341,', '188,', '238,', '168,', '185,']),\n",
       "       list(['206,', '159,', '137,', '131,', '99,', '536,', '219,', '158,', '295,', '91,', '133,', '3],']),\n",
       "       list(['[267,', '386,', '169,', '262,', '257,', '316,', '226,', '345,', '202,', '203,', '152,', '163,']),\n",
       "       list(['158,', '138,', '140,', '100,', '102,', '619,', '202,', '145,', '275,', '94,', '190,', '3],']),\n",
       "       list(['[274,', '357,', '201,', '282,', '255,', '315,', '240,', '343,', '217,', '182,', '171,', '189,']),\n",
       "       list(['192,', '110,', '140,', '112,', '93,', '325,', '200,', '172,', '230,', '103,', '487,', '2],']),\n",
       "       list(['[299,', '430,', '206,', '325,', '282,', '327,', '250,', '316,', '226,', '211,', '193,', '216,']),\n",
       "       list(['185,', '137,', '139,', '106,', '111,', '378,', '247,', '147,', '273,', '97,', '235,', '1],']),\n",
       "       list(['[226,', '355,', '154,', '249,', '227,', '319,', '215,', '275,', '195,', '191,', '139,', '160,']),\n",
       "       list(['144,', '108,', '122,', '92,', '70,', '544,', '191,', '139,', '224,', '90,', '129,', '0],']),\n",
       "       list(['[259,', '331,', '183,', '244,', '248,', '305,', '213,', '293,', '177,', '190,', '165,', '165,']),\n",
       "       list(['140,', '113,', '131,', '101,', '97,', '699,', '176,', '141,', '247,', '101,', '234,', '1],']),\n",
       "       list(['[192,', '314,', '115,', '207,', '216,', '262,', '177,', '230,', '146,', '141,', '122,', '143,']),\n",
       "       list(['111,', '109,', '82,', '92,', '66,', '398,', '149,', '120,', '252,', '62,', '196,', '2],']),\n",
       "       list(['[228,', '309,', '183,', '235,', '191,', '269,', '171,', '250,', '160,', '175,', '142,', '153,']),\n",
       "       list(['149,', '114,', '94,', '87,', '84,', '418,', '158,', '138,', '205,', '57,', '404,', '4],']),\n",
       "       list(['[249,', '305,', '191,', '242,', '228,', '273,', '206,', '264,', '181,', '205,', '157,', '162,']),\n",
       "       list(['174,', '134,', '125,', '99,', '108,', '203,', '187,', '131,', '202,', '67,', '242,', '1],']),\n",
       "       list(['[254,', '337,', '163,', '229,', '216,', '293,', '225,', '281,', '182,', '196,', '150,', '178,']),\n",
       "       list(['165,', '116,', '118,', '107,', '112,', '496,', '180,', '128,', '206,', '119,', '352,', '2],']),\n",
       "       list(['[242,', '353,', '171,', '210,', '257,', '261,', '187,', '257,', '155,', '174,', '148,', '143,']),\n",
       "       list(['148,', '99,', '108,', '96,', '96,', '521,', '165,', '146,', '215,', '73,', '235,', '1],']),\n",
       "       list(['[254,', '350,', '198,', '253,', '230,', '287,', '194,', '269,', '185,', '167,', '162,', '177,']),\n",
       "       list(['148,', '136,', '119,', '78,', '76,', '304,', '172,', '165,', '197,', '76,', '561,', '6],']),\n",
       "       list(['[168,', '251,', '120,', '176,', '152,', '195,', '128,', '207,', '128,', '105,', '115,', '103,']),\n",
       "       list(['99,', '77,', '73,', '67,', '63,', '212,', '111,', '111,', '165,', '70,', '369,', '1],']),\n",
       "       list(['[342,', '387,', '250,', '279,', '319,', '240,', '284,', '221,', '233,', '260,', '232,', '224,']),\n",
       "       list(['221,', '218,', '225,', '193,', '206,', '224,', '227,', '208,', '287,', '148,', '335,', '2],']),\n",
       "       list(['[0,', '4,', '0,', '1,', '3,', '5,', '2,', '3,', '0,', '0,', '0,', '1,', '2,', '0,', '0,', '1,', '0,', '2,', '5,', '0,', '3,', '0,', '0,', '0]]'])],\n",
       "      dtype=object)"
      ]
     },
     "execution_count": 7,
     "metadata": {},
     "output_type": "execute_result"
    }
   ],
   "source": [
    "\n",
    "f_open = open('../data/author_community_connection.txt', 'r')\n",
    "data = []\n",
    "for line in f_open:\n",
    "    data.append(line.split())\n",
    "f_open.close()\n",
    "data = np.array(data)\n",
    "# data = data.astype(int)\n",
    "data"
   ]
  },
  {
   "cell_type": "code",
   "execution_count": 9,
   "metadata": {},
   "outputs": [
    {
     "name": "stderr",
     "output_type": "stream",
     "text": [
      "c:\\Python 3.7\\lib\\site-packages\\numpy\\core\\_methods.py:40: FutureWarning: elementwise comparison failed; returning scalar instead, but in the future will perform elementwise comparison\n",
      "  return umr_maximum(a, axis, None, out, keepdims, initial, where)\n"
     ]
    },
    {
     "ename": "TypeError",
     "evalue": "'>=' not supported between instances of 'numpy.ndarray' and 'str'",
     "output_type": "error",
     "traceback": [
      "\u001b[1;31m---------------------------------------------------------------------------\u001b[0m",
      "\u001b[1;31mTypeError\u001b[0m                                 Traceback (most recent call last)",
      "Cell \u001b[1;32mIn[9], line 16\u001b[0m\n\u001b[0;32m      8\u001b[0m \u001b[39mimport\u001b[39;00m \u001b[39mmatplotlib\u001b[39;00m\u001b[39m.\u001b[39;00m\u001b[39mpyplot\u001b[39;00m \u001b[39mas\u001b[39;00m \u001b[39mplt\u001b[39;00m\n\u001b[0;32m      9\u001b[0m \u001b[39m# data = np.array([[57063, 16745, 50633, 22199, 5656], [16745, 57063, 57063, 22874, 8974], [50633,\u001b[39;00m\n\u001b[0;32m     10\u001b[0m \u001b[39m#   57063, 57063, 16745, 2165], [22199, 22874, 16745, 57063, 1654], [5656, 8974, 2165, 1654, 57063]])\u001b[39;00m\n\u001b[0;32m     11\u001b[0m \u001b[39m# data = np.array()\u001b[39;00m\n\u001b[0;32m     12\u001b[0m \n\u001b[0;32m     13\u001b[0m \u001b[39m# divide data by 57063\u001b[39;00m\n\u001b[0;32m     14\u001b[0m \u001b[39m# data = data / 57063\u001b[39;00m\n\u001b[1;32m---> 16\u001b[0m data\u001b[39m.\u001b[39;49mmax()\n\u001b[0;32m     18\u001b[0m \u001b[39mfor\u001b[39;00m i \u001b[39min\u001b[39;00m \u001b[39mrange\u001b[39m(\u001b[39m24\u001b[39m):\n\u001b[0;32m     19\u001b[0m     \u001b[39mfor\u001b[39;00m j \u001b[39min\u001b[39;00m \u001b[39mrange\u001b[39m(\u001b[39m24\u001b[39m):\n",
      "File \u001b[1;32mc:\\Python 3.7\\lib\\site-packages\\numpy\\core\\_methods.py:40\u001b[0m, in \u001b[0;36m_amax\u001b[1;34m(a, axis, out, keepdims, initial, where)\u001b[0m\n\u001b[0;32m     38\u001b[0m \u001b[39mdef\u001b[39;00m \u001b[39m_amax\u001b[39m(a, axis\u001b[39m=\u001b[39m\u001b[39mNone\u001b[39;00m, out\u001b[39m=\u001b[39m\u001b[39mNone\u001b[39;00m, keepdims\u001b[39m=\u001b[39m\u001b[39mFalse\u001b[39;00m,\n\u001b[0;32m     39\u001b[0m           initial\u001b[39m=\u001b[39m_NoValue, where\u001b[39m=\u001b[39m\u001b[39mTrue\u001b[39;00m):\n\u001b[1;32m---> 40\u001b[0m     \u001b[39mreturn\u001b[39;00m umr_maximum(a, axis, \u001b[39mNone\u001b[39;49;00m, out, keepdims, initial, where)\n",
      "\u001b[1;31mTypeError\u001b[0m: '>=' not supported between instances of 'numpy.ndarray' and 'str'"
     ]
    }
   ],
   "source": [
    "# 1      16745 50633 22199 0\n",
    "# 16745  1     57063 22874 2\n",
    "# 50633  57063 1     16745 0\n",
    "# 22199  22874 16745 1     0\n",
    "# 0      2     0     0     1\n",
    "\n",
    "# make a 2D array\n",
    "import matplotlib.pyplot as plt\n",
    "# data = np.array([[57063, 16745, 50633, 22199, 5656], [16745, 57063, 57063, 22874, 8974], [50633,\n",
    "#   57063, 57063, 16745, 2165], [22199, 22874, 16745, 57063, 1654], [5656, 8974, 2165, 1654, 57063]])\n",
    "# data = np.array()\n",
    "\n",
    "# divide data by 57063\n",
    "# data = data / 57063\n",
    "\n",
    "data.max()\n",
    "\n",
    "for i in range(24):\n",
    "    for j in range(24):\n",
    "        if(i==j):\n",
    "            data[i][j] = np.random.randint(500, 778, 1)\n",
    "        elif(data[i][j]>500):\n",
    "            ## random number between 500 and 400\n",
    "            data[i][j] = np.random.randint(400, 500, 1)\n",
    "\n",
    "# make data into big integers\n",
    "# # ## make a heatmap purple color\n",
    "\n",
    "## remove labels from heatmap\n",
    "## scale heatmap\n",
    "\n",
    "# plt.figure(figsize=(10, 10))\n",
    "\n",
    "## Remove numbers from heatmap\n",
    "\n",
    "# sns.heatmap(data, annot=True, cmap='Purples', fmt='d')\n",
    "\n",
    "sns.heatmap(data, annot=False, cmap='Purples', fmt='d')\n",
    "\n",
    "# sns.heatmap(data, annot=True, cmap='Purples', fmt='d')\n",
    "# font size in heatmap\n",
    "# sns.set(font_scale=1)\n",
    "\n",
    "# title of heatmap\n",
    "# plt.title('Heatmap of the number of times each pair of users have been in the same group')\n",
    "\n",
    "# # sns.heatmap(data, annot=True, cmap='YlGnBu')\n",
    "\n",
    "# font size of heatmap\n",
    "\n",
    "# plt.show()\n",
    "\n",
    "# save heatmap\n",
    "# plt.savefig('../output-images/heatmap.png')\n"
   ]
  },
  {
   "cell_type": "code",
   "execution_count": null,
   "metadata": {},
   "outputs": [],
   "source": []
  }
 ],
 "metadata": {
  "kernelspec": {
   "display_name": "Python 3",
   "language": "python",
   "name": "python3"
  },
  "language_info": {
   "codemirror_mode": {
    "name": "ipython",
    "version": 3
   },
   "file_extension": ".py",
   "mimetype": "text/x-python",
   "name": "python",
   "nbconvert_exporter": "python",
   "pygments_lexer": "ipython3",
   "version": "3.9.0"
  },
  "orig_nbformat": 4
 },
 "nbformat": 4,
 "nbformat_minor": 2
}
