{
 "cells": [
  {
   "cell_type": "code",
   "execution_count": 3,
   "metadata": {},
   "outputs": [],
   "source": [
    "import matplotlib.pyplot as plt\n",
    "import numpy as np\n",
    "import pandas as pd"
   ]
  },
  {
   "cell_type": "code",
   "execution_count": 9,
   "metadata": {},
   "outputs": [
    {
     "data": {
      "text/plain": [
       "(1474, 2)"
      ]
     },
     "execution_count": 9,
     "metadata": {},
     "output_type": "execute_result"
    }
   ],
   "source": [
    "# read csv file without itex\n",
    "df = pd.read_csv('hits_page_credibility_data.csv', sep=',', header=None, names=['page_id', 'credibility'])\n",
    "\n",
    "# sort by credibility\n",
    "df = df.sort_values(by=['credibility'], ascending=False)\n",
    "\n",
    "# print first 10 rows\n",
    "\n",
    "df.shape\n",
    "# df.head()"
   ]
  },
  {
   "cell_type": "code",
   "execution_count": 10,
   "metadata": {},
   "outputs": [
    {
     "data": {
      "text/plain": [
       "(70802, 2)"
      ]
     },
     "execution_count": 10,
     "metadata": {},
     "output_type": "execute_result"
    }
   ],
   "source": [
    "# read csv file without itex\n",
    "df = pd.read_csv('hits_author_credibility_data.csv', sep=',', header=None, names=['author_id', 'credibility'])\n",
    "\n",
    "# sort by credibility\n",
    "df = df.sort_values(by=['credibility'], ascending=False)\n",
    "\n",
    "df.shape"
   ]
  }
 ],
 "metadata": {
  "kernelspec": {
   "display_name": "Python 3",
   "language": "python",
   "name": "python3"
  },
  "language_info": {
   "codemirror_mode": {
    "name": "ipython",
    "version": 3
   },
   "file_extension": ".py",
   "mimetype": "text/x-python",
   "name": "python",
   "nbconvert_exporter": "python",
   "pygments_lexer": "ipython3",
   "version": "3.9.0"
  },
  "orig_nbformat": 4,
  "vscode": {
   "interpreter": {
    "hash": "11c05466a21eb890c73b8c4edb844ef69eb8ff37d51f796d0d8ea1700ba996f4"
   }
  }
 },
 "nbformat": 4,
 "nbformat_minor": 2
}
