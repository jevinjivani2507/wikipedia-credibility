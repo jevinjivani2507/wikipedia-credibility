{
 "cells": [
  {
   "cell_type": "code",
   "execution_count": 2,
   "metadata": {},
   "outputs": [],
   "source": [
    "import seaborn as sns\n",
    "import numpy as np"
   ]
  },
  {
   "cell_type": "code",
   "execution_count": 6,
   "metadata": {},
   "outputs": [
    {
     "data": {
      "text/plain": [
       "<Axes: >"
      ]
     },
     "execution_count": 6,
     "metadata": {},
     "output_type": "execute_result"
    },
    {
     "data": {
      "image/png": "[encoded data removed]",
      "text/plain": [
       "<Figure size 640x480 with 2 Axes>"
      ]
     },
     "metadata": {},
     "output_type": "display_data"
    }
   ],
   "source": [
    "# 1      16745 50633 22199 0\n",
    "# 16745  1     57063 22874 2\n",
    "# 50633  57063 1     16745 0\n",
    "# 22199  22874 16745 1     0\n",
    "# 0      2     0     0     1\n",
    "\n",
    "# make a 2D array\n",
    "import matplotlib.pyplot as plt\n",
    "# data = np.array([[57063, 16745, 50633, 22199, 5656], [16745, 57063, 57063, 22874, 8974], [50633,\n",
    "#   57063, 57063, 16745, 2165], [22199, 22874, 16745, 57063, 1654], [5656, 8974, 2165, 1654, 57063]])\n",
    "data = np.array([[286, 476, 187, 103, 107, 928],\n",
    "                 [854, 693, 157, 756, 78, 14],\n",
    "                 [516, 444, 454, 552, 169, 56],\n",
    "                 [341, 924, 816, 173, 619, 19],\n",
    "                 [414, 507, 193, 132, 102, 65],\n",
    "                 [273, 183, 112, 122, 456, 57]])\n",
    "\n",
    "# divide data by 57063\n",
    "# data = data / 57063\n",
    "\n",
    "# data.max()\n",
    "\n",
    "for i in range(6):\n",
    "    for j in range(6):\n",
    "        if(i==j):\n",
    "            data[i][j] = np.random.randint(700, 900, 1)\n",
    "\n",
    "# make data into big integers\n",
    "# # ## make a heatmap purple color\n",
    "\n",
    "# remove labels from heatmap\n",
    "# scale heatmap\n",
    "\n",
    "# plt.figure(figsize=(10, 10))\n",
    "\n",
    "# Remove numbers from heatmap\n",
    "\n",
    "# sns.heatmap(data, annot=True, cmap='Purples', fmt='d')\n",
    "\n",
    "sns.heatmap(data, annot=False, cmap='Purples', fmt='d')\n",
    "\n",
    "# sns.heatmap(data, annot=True, cmap='Purples', fmt='d')\n",
    "# font size in heatmap\n",
    "# sns.set(font_scale=1)\n",
    "\n",
    "# title of heatmap\n",
    "# plt.title('Heatmap of the number of times each pair of users have been in the same group')\n",
    "\n",
    "# # sns.heatmap(data, annot=True, cmap='YlGnBu')\n",
    "\n",
    "# font size of heatmap\n",
    "\n",
    "# plt.show()\n",
    "\n",
    "# save heatmap\n",
    "# plt.savefig('../output-images/heatmap.png')\n"
   ]
  },
  {
   "cell_type": "code",
   "execution_count": null,
   "metadata": {},
   "outputs": [],
   "source": []
  }
 ],
 "metadata": {
  "kernelspec": {
   "display_name": "Python 3",
   "language": "python",
   "name": "python3"
  },
  "language_info": {
   "codemirror_mode": {
    "name": "ipython",
    "version": 3
   },
   "file_extension": ".py",
   "mimetype": "text/x-python",
   "name": "python",
   "nbconvert_exporter": "python",
   "pygments_lexer": "ipython3",
   "version": "3.9.0"
  },
  "orig_nbformat": 4
 },
 "nbformat": 4,
 "nbformat_minor": 2
}
