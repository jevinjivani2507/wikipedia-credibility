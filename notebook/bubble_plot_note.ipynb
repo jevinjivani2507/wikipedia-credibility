{
 "cells": [
  {
   "cell_type": "code",
   "execution_count": null,
   "metadata": {},
   "outputs": [],
   "source": [
    "import numpy as np\n",
    "import pandas as pd\n",
    "import matplotlib.pyplot as plt"
   ]
  },
  {
   "cell_type": "code",
   "execution_count": null,
   "metadata": {},
   "outputs": [],
   "source": [
    "frequent_page_revised = pd.read_csv('abc.csv', sep=',', header=None, names=['page_id', 'author_id' ,'taxtdata'])\n",
    "frequent_page_revised\n"
   ]
  },
  {
   "cell_type": "code",
   "execution_count": null,
   "metadata": {},
   "outputs": [],
   "source": [
    "import plotly.graph_objects as go\n",
    "import random\n",
    "x = frequent_page_revised[\"author_id\"]\n",
    "y = frequent_page_revised[\"page_id\"]\n",
    "markerData = frequent_page_revised[\"taxtdata\"]\n",
    "\n",
    "colors = []\n",
    "\n",
    "for i in range(len(x)):\n",
    "    r1 = random.randint(0,255)\n",
    "    r2 = random.randint(0,255)\n",
    "    r3 = random.randint(0,255)\n",
    "    ans = 'rgb('+str(r1)+','+str(r2)+','+str(r3)+')'\n",
    "    colors.append(ans)\n",
    "\n",
    "\n",
    "# colors\n",
    "\n",
    "fig = go.Figure(data=[go.Scatter(\n",
    "    x=x, y=y,\n",
    "    mode='markers',\n",
    "    marker=dict(size=markerData, color=colors))\n",
    "])\n",
    "\n",
    "fig.write_image(\"image.png\")"
   ]
  }
 ],
 "metadata": {
  "kernelspec": {
   "display_name": "Python 3",
   "language": "python",
   "name": "python3"
  },
  "language_info": {
   "codemirror_mode": {
    "name": "ipython",
    "version": 3
   },
   "file_extension": ".py",
   "mimetype": "text/x-python",
   "name": "python",
   "nbconvert_exporter": "python",
   "pygments_lexer": "ipython3",
   "version": "3.8.0"
  },
  "orig_nbformat": 4
 },
 "nbformat": 4,
 "nbformat_minor": 2
}
