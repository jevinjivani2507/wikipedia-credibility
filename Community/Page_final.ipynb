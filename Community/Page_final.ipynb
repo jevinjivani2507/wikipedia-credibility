{
 "cells": [
  {
   "cell_type": "code",
   "execution_count": 1,
   "metadata": {},
   "outputs": [],
   "source": [
    "import matplotlib.pyplot as plt\n",
    "import numpy as np\n",
    "import pandas as pd\n",
    "import community as community_louvain\n",
    "import matplotlib.cm as cm\n",
    "import seaborn as sns\n",
    "import networkx as nx"
   ]
  },
  {
   "cell_type": "code",
   "execution_count": 2,
   "metadata": {},
   "outputs": [
    {
     "name": "stdout",
     "output_type": "stream",
     "text": [
      "Graph with 808 nodes and 185987 edges\n"
     ]
    }
   ],
   "source": [
    "G1 = nx.read_edgelist('page-page.csv',delimiter=\",\")\n",
    "print(G1)"
   ]
  },
  {
   "cell_type": "code",
   "execution_count": 3,
   "metadata": {},
   "outputs": [
    {
     "name": "stdout",
     "output_type": "stream",
     "text": [
      "Cluster  0 :  ﻿page\n",
      "Cluster  1 :  652\n",
      "Cluster  2 :  579\n",
      "Cluster  3 :  599\n",
      "Cluster  4 :  651\n",
      "Cluster  5 :  25\n"
     ]
    }
   ],
   "source": [
    "# Find communities in graph using Louvain method\n",
    "partition = community_louvain.best_partition(G1)\n",
    "num_communities = max(partition.values()) + 1\n",
    "\n",
    "\n",
    "#element in every cluster\n",
    "for i in range(num_communities):\n",
    "    print(\"Cluster \",i,\": \",list(partition.keys())[list(partition.values()).index(i)])"
   ]
  },
  {
   "cell_type": "code",
   "execution_count": 4,
   "metadata": {},
   "outputs": [
    {
     "name": "stdout",
     "output_type": "stream",
     "text": [
      "Cluster  0 :  918\n",
      "Cluster  1 :  785\n",
      "Cluster  2 :  629\n",
      "Cluster  3 :  335\n",
      "Cluster  4 :  3\n"
     ]
    }
   ],
   "source": [
    "# Find communities in graph using Leiden method\n",
    "import igraph as ig\n",
    "import leidenalg as la\n",
    "\n",
    "df = pd.read_csv('author-author.csv')\n",
    "G2 = ig.Graph.TupleList(df.itertuples(index=False), directed=True, weights=True)\n",
    "partition = la.find_partition(G2, la.ModularityVertexPartition)\n",
    "\n",
    "#no og element in every cluster\n",
    "for i in range(len(partition)):\n",
    "    print(\"Cluster \",i,\": \",len(partition[i]))\n"
   ]
  },
  {
   "cell_type": "code",
   "execution_count": 5,
   "metadata": {},
   "outputs": [
    {
     "name": "stdout",
     "output_type": "stream",
     "text": [
      "Note: to be able to use all crisp methods, you need to install some additional packages:  {'karateclub', 'wurlitzer', 'infomap', 'graph_tool'}\n",
      "Note: to be able to use all overlapping methods, you need to install some additional packages:  {'karateclub', 'ASLPAw'}\n",
      "Note: to be able to use all bipartite methods, you need to install some additional packages:  {'wurlitzer', 'infomap'}\n",
      "Cluster  0 :  654\n",
      "Cluster  1 :  17\n",
      "Cluster  2 :  10\n",
      "Cluster  3 :  9\n",
      "Cluster  4 :  8\n",
      "Cluster  5 :  7\n",
      "Cluster  6 :  7\n",
      "Cluster  7 :  7\n",
      "Cluster  8 :  5\n",
      "Cluster  9 :  5\n",
      "Cluster  10 :  5\n",
      "Cluster  11 :  4\n",
      "Cluster  12 :  4\n",
      "Cluster  13 :  4\n",
      "Cluster  14 :  4\n",
      "Cluster  15 :  4\n",
      "Cluster  16 :  3\n",
      "Cluster  17 :  3\n",
      "Cluster  18 :  3\n",
      "Cluster  19 :  3\n",
      "Cluster  20 :  2\n",
      "Cluster  21 :  2\n",
      "Cluster  22 :  2\n",
      "Cluster  23 :  2\n",
      "Cluster  24 :  2\n",
      "Cluster  25 :  2\n",
      "Cluster  26 :  2\n",
      "Cluster  27 :  2\n",
      "Cluster  28 :  1\n",
      "Cluster  29 :  1\n",
      "Cluster  30 :  1\n",
      "Cluster  31 :  1\n",
      "Cluster  32 :  1\n",
      "Cluster  33 :  1\n",
      "Cluster  34 :  1\n",
      "Cluster  35 :  1\n",
      "Cluster  36 :  1\n",
      "Cluster  37 :  1\n",
      "Cluster  38 :  1\n",
      "Cluster  39 :  1\n",
      "Cluster  40 :  1\n",
      "Cluster  41 :  1\n",
      "Cluster  42 :  1\n",
      "Cluster  43 :  1\n",
      "Cluster  44 :  1\n",
      "Cluster  45 :  1\n",
      "Cluster  46 :  1\n",
      "Cluster  47 :  1\n",
      "Cluster  48 :  1\n",
      "Cluster  49 :  1\n",
      "Cluster  50 :  1\n",
      "Cluster  51 :  1\n",
      "Cluster  52 :  1\n",
      "Cluster  53 :  1\n"
     ]
    }
   ],
   "source": [
    "#surprise Algo\n",
    "from cdlib import algorithms\n",
    "coms = algorithms.surprise_communities(G1)\n",
    "\n",
    "# no of element in every cluster\n",
    "for i in range(len(coms.communities)):\n",
    "    print(\"Cluster \",i,\": \",len(coms.communities[i]))\n"
   ]
  }
 ],
 "metadata": {
  "kernelspec": {
   "display_name": "Python 3",
   "language": "python",
   "name": "python3"
  },
  "language_info": {
   "codemirror_mode": {
    "name": "ipython",
    "version": 3
   },
   "file_extension": ".py",
   "mimetype": "text/x-python",
   "name": "python",
   "nbconvert_exporter": "python",
   "pygments_lexer": "ipython3",
   "version": "3.10.11"
  },
  "orig_nbformat": 4
 },
 "nbformat": 4,
 "nbformat_minor": 2
}
