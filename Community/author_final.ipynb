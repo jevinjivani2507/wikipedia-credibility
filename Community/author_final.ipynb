{
 "cells": [
  {
   "cell_type": "code",
   "execution_count": 13,
   "metadata": {},
   "outputs": [],
   "source": [
    "import matplotlib.pyplot as plt\n",
    "import numpy as np\n",
    "import pandas as pd\n",
    "import community as community_louvain\n",
    "import matplotlib.cm as cm\n",
    "import seaborn as sns\n",
    "import networkx as nx"
   ]
  },
  {
   "cell_type": "code",
   "execution_count": null,
   "metadata": {},
   "outputs": [],
   "source": [
    "G1 = nx.read_edgelist('author-author_new.csv',delimiter=\",\")\n",
    "print(G1)"
   ]
  },
  {
   "cell_type": "code",
   "execution_count": null,
   "metadata": {},
   "outputs": [],
   "source": [
    "# Find communities in graph using Louvain method\n",
    "partition = community_louvain.best_partition(G1)\n",
    "num_communities = max(partition.values()) + 1\n",
    "\n",
    "\n",
    "# no of author in every custer\n",
    "for i in range(num_communities):\n",
    "    print(\"\\n Community: \", i)\n",
    "    count=0;\n",
    "    for node in partition:\n",
    "        if partition[node] == i:\n",
    "            count=count+1;\n",
    "    print(count)\n",
    "\n",
    "\n"
   ]
  },
  {
   "cell_type": "code",
   "execution_count": null,
   "metadata": {},
   "outputs": [],
   "source": [
    "# Find communities in graph using Leiden method\n",
    "import igraph as ig\n",
    "import leidenalg as la\n",
    "\n",
    "df = pd.read_csv('author-author_new.csv')\n",
    "G2 = ig.Graph.TupleList(df.itertuples(index=False), directed=False, weights=True)\n",
    "partition = la.find_partition(G2, la.ModularityVertexPartition)\n",
    "\n",
    "#no of element in every cluster\n",
    "for i in range(len(partition)):\n",
    "    print(\"Cluster \",i,\": \",len(partition[i]))\n",
    "\n",
    "\n"
   ]
  },
  {
   "cell_type": "code",
   "execution_count": null,
   "metadata": {},
   "outputs": [],
   "source": [
    "#surprise Algo\n",
    "from cdlib import algorithms\n",
    "coms = algorithms.surprise_communities(G1)\n",
    "\n",
    "# no of element in every cluster\n",
    "for i in range(len(coms.communities)):\n",
    "    print(\"Cluster \",i,\": \",len(coms.communities[i]))\n"
   ]
  }
 ],
 "metadata": {
  "kernelspec": {
   "display_name": "Python 3",
   "language": "python",
   "name": "python3"
  },
  "language_info": {
   "codemirror_mode": {
    "name": "ipython",
    "version": 3
   },
   "file_extension": ".py",
   "mimetype": "text/x-python",
   "name": "python",
   "nbconvert_exporter": "python",
   "pygments_lexer": "ipython3",
   "version": "3.10.11"
  },
  "orig_nbformat": 4
 },
 "nbformat": 4,
 "nbformat_minor": 2
}
